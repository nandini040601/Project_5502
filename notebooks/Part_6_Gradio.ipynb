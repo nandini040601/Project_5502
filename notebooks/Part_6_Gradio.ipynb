// import shutil
// import gradio as gr
// import pickle
// import pandas as pd

// # Source file path (within your Drive)
// source_file = '/content/model.pkl'

// # Destination path (root of your Drive)
// destination_path = 'model.pkl'

// # Copy the file
// shutil.copy(source_file, destination_path)



// with open('/content/model.pkl', 'rb') as file:
//     model = pickle.load(file)


// def predict_subscribe(watch, duration, ctr, interest):
//     data = [{"watch_time": watch, "avg_view_duration": duration, "click_through_rate": ctr, "interest": interest}]
//     sample = pd.DataFrame(data)
//     pred = model.predict_proba(sample.values)[0]
//     return {'Misses Out': pred[0], 'Subscribes': pred[1]}

// print(predict_subscribe(-8.1, 1.4, -0.7, 0))


// watch = gr.Slider(minimum=-9, maximum=12, label="Watch")
// duration = gr.Slider(minimum=-4, maximum=4, label="Duration")
// ctr = gr.Slider(minimum=-5, maximum=5, label="Click Through Rate")
// interest = gr.Radio([0, 1], label="Interest")

// gr.Interface(predict_subscribe, [watch, duration, ctr, interest], "label", live=False).launch();

// Radio



import pickle
import pandas as pd

with open('model.pkl', 'rb') as file:
    model = pickle.load(file)


def predict_subscribe(watch, duration, ctr, interest):
    data = [{"watch_time": watch, "avg_view_duration": duration, "click_through_rate": ctr, "interest": interest}]
    sample = pd.DataFrame(data)
    pred = model.predict_proba(sample.values)[0]
    return {'Misses Out': pred[0], 'Subscribes': pred[1]}

# print(predict_subscribe(-8.1, 1.4, -0.7, 0))

# # def predict_subscribe(watch, duration, ctr, interest):
# import gradio as gr

# watch = gr.Slider(minimum=-9, maximum=12, label="Watch")
# duration = gr.Slider(minimum=-4, maximum=4, label="Duration")
# ctr = gr.Slider(minimum=-5, maximum=5, label="Click Through Rate")
# interest = gr.Radio([0, 1], label="Interest")

# gr.Interface(predict_subscribe, [watch, duration, ctr, interest], "label", live=False).launch();! 
